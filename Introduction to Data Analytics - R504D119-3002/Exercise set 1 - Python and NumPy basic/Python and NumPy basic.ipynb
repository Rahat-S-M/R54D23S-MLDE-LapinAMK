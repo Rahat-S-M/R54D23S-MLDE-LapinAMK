{
 "cells": [
  {
   "cell_type": "markdown",
   "metadata": {},
   "source": [
    "## 1. Create these lists without NumPy:"
   ]
  },
  {
   "cell_type": "code",
   "execution_count": 2,
   "metadata": {},
   "outputs": [
    {
     "data": {
      "text/plain": [
       "[1, 1, 1, 1, 1, 1, 1, 1, 1, 1, 1, 1, 1, 1, 1]"
      ]
     },
     "execution_count": 2,
     "metadata": {},
     "output_type": "execute_result"
    }
   ],
   "source": [
    "# List of 15 ones\n",
    "numbers = []\n",
    "for x in range(0, 15):\n",
    " numbers.append(1)\n",
    "\n",
    "numbers"
   ]
  },
  {
   "cell_type": "code",
   "execution_count": 3,
   "metadata": {},
   "outputs": [
    {
     "data": {
      "text/plain": [
       "[7, 7, 7, 7, 7, 7, 7, 7, 7, 7, 7, 7, 7, 7, 7]"
      ]
     },
     "execution_count": 3,
     "metadata": {},
     "output_type": "execute_result"
    }
   ],
   "source": [
    "# List of 15 number 7's\n",
    "numbers = []\n",
    "for x in range(0, 15):\n",
    " numbers.append(7)\n",
    "\n",
    "numbers"
   ]
  },
  {
   "cell_type": "code",
   "execution_count": null,
   "metadata": {},
   "outputs": [],
   "source": [
    "# List of numbers from 100 to 150\n",
    "numbers = []\n",
    "for x in range(100, 151):\n",
    " numbers.append(x)\n",
    "\n",
    "numbers"
   ]
  },
  {
   "cell_type": "code",
   "execution_count": null,
   "metadata": {},
   "outputs": [],
   "source": [
    "# List of even numbers between 0 and 100\n",
    "numbers = []\n",
    "for x in range(1, 100, 2):\n",
    " numbers.append(x)\n",
    "\n",
    "numbers"
   ]
  },
  {
   "cell_type": "code",
   "execution_count": null,
   "metadata": {},
   "outputs": [],
   "source": [
    "# List of even numbers between 0 and 100\n",
    "numbers = []\n",
    "for x in range(0, 101, 2):\n",
    " numbers.append(x)\n",
    "\n",
    "numbers"
   ]
  },
  {
   "cell_type": "code",
   "execution_count": null,
   "metadata": {},
   "outputs": [],
   "source": [
    "# List of years that are divisible by 4 between 1950 and 2020\n",
    "numbers = []\n",
    "for x in range(1950, 2021):\n",
    " if x%4==0:\n",
    "    numbers.append(x)\n",
    "\n",
    "numbers"
   ]
  },
  {
   "cell_type": "markdown",
   "metadata": {},
   "source": [
    "## 2. Now, create these arrays with NumPy"
   ]
  },
  {
   "cell_type": "code",
   "execution_count": 25,
   "metadata": {},
   "outputs": [],
   "source": [
    "import numpy as np"
   ]
  },
  {
   "cell_type": "code",
   "execution_count": 37,
   "metadata": {},
   "outputs": [
    {
     "data": {
      "text/plain": [
       "array([0, 0, 0, 0, 0, 0, 0, 0, 0, 0, 0, 0, 0, 0, 0])"
      ]
     },
     "execution_count": 37,
     "metadata": {},
     "output_type": "execute_result"
    }
   ],
   "source": [
    "# Array of 15 zeroes\n",
    "zeros = np.zeros(15).astype(int)\n",
    "zeros"
   ]
  },
  {
   "cell_type": "code",
   "execution_count": 38,
   "metadata": {},
   "outputs": [
    {
     "data": {
      "text/plain": [
       "array([1, 1, 1, 1, 1, 1, 1, 1, 1, 1, 1, 1, 1, 1, 1])"
      ]
     },
     "execution_count": 38,
     "metadata": {},
     "output_type": "execute_result"
    }
   ],
   "source": [
    "# Array of 15 ones\n",
    "ones = np.ones(15).astype(int)\n",
    "ones"
   ]
  },
  {
   "cell_type": "code",
   "execution_count": 42,
   "metadata": {},
   "outputs": [
    {
     "data": {
      "text/plain": [
       "array([7, 7, 7, 7, 7, 7, 7, 7, 7, 7, 7, 7, 7, 7, 7])"
      ]
     },
     "execution_count": 42,
     "metadata": {},
     "output_type": "execute_result"
    }
   ],
   "source": [
    "# Array of 15 number 7\n",
    "sevens = np.full(15, 7)\n",
    "sevens"
   ]
  },
  {
   "cell_type": "code",
   "execution_count": 43,
   "metadata": {},
   "outputs": [
    {
     "data": {
      "text/plain": [
       "array([100, 101, 102, 103, 104, 105, 106, 107, 108, 109, 110, 111, 112,\n",
       "       113, 114, 115, 116, 117, 118, 119, 120, 121, 122, 123, 124, 125,\n",
       "       126, 127, 128, 129, 130, 131, 132, 133, 134, 135, 136, 137, 138,\n",
       "       139, 140, 141, 142, 143, 144, 145, 146, 147, 148, 149, 150])"
      ]
     },
     "execution_count": 43,
     "metadata": {},
     "output_type": "execute_result"
    }
   ],
   "source": [
    "# Array of numbers from 100 to 150\n",
    "numbers = np.arange(100, 151)\n",
    "numbers"
   ]
  },
  {
   "cell_type": "code",
   "execution_count": 45,
   "metadata": {},
   "outputs": [
    {
     "data": {
      "text/plain": [
       "array([1900, 1901, 1902, 1903, 1904, 1905, 1906, 1907, 1908, 1909, 1910,\n",
       "       1911, 1912, 1913, 1914, 1915, 1916, 1917, 1918, 1919, 1920, 1921,\n",
       "       1922, 1923, 1924, 1925, 1926, 1927, 1928, 1929, 1930, 1931, 1932,\n",
       "       1933, 1934, 1935, 1936, 1937, 1938, 1939, 1940, 1941, 1942, 1943,\n",
       "       1944, 1945, 1946, 1947, 1948, 1949, 1950, 1951, 1952, 1953, 1954,\n",
       "       1955, 1956, 1957, 1958, 1959, 1960, 1961, 1962, 1963, 1964, 1965,\n",
       "       1966, 1967, 1968, 1969, 1970, 1971, 1972, 1973, 1974, 1975, 1976,\n",
       "       1977, 1978, 1979, 1980, 1981, 1982, 1983, 1984, 1985, 1986, 1987,\n",
       "       1988, 1989, 1990, 1991, 1992, 1993, 1994, 1995, 1996, 1997, 1998,\n",
       "       1999, 2000, 2001, 2002, 2003, 2004, 2005, 2006, 2007, 2008, 2009,\n",
       "       2010, 2011, 2012, 2013, 2014, 2015, 2016, 2017, 2018, 2019, 2020,\n",
       "       2021])"
      ]
     },
     "execution_count": 45,
     "metadata": {},
     "output_type": "execute_result"
    }
   ],
   "source": [
    "# Array of numbers from 1900 to 2021\n",
    "numbers = np.arange(1900, 2022)\n",
    "numbers"
   ]
  },
  {
   "cell_type": "code",
   "execution_count": 47,
   "metadata": {},
   "outputs": [
    {
     "data": {
      "text/plain": [
       "array([  0,   2,   4,   6,   8,  10,  12,  14,  16,  18,  20,  22,  24,\n",
       "        26,  28,  30,  32,  34,  36,  38,  40,  42,  44,  46,  48,  50,\n",
       "        52,  54,  56,  58,  60,  62,  64,  66,  68,  70,  72,  74,  76,\n",
       "        78,  80,  82,  84,  86,  88,  90,  92,  94,  96,  98, 100])"
      ]
     },
     "execution_count": 47,
     "metadata": {},
     "output_type": "execute_result"
    }
   ],
   "source": [
    "# Array of even numbers between 0 and 100\n",
    "numbers = np.arange(0, 101,2)\n",
    "numbers"
   ]
  },
  {
   "cell_type": "code",
   "execution_count": 51,
   "metadata": {},
   "outputs": [
    {
     "data": {
      "text/plain": [
       "array([1952, 1956, 1960, 1964, 1968, 1972, 1976, 1980, 1984, 1988, 1992,\n",
       "       1996, 2000, 2004, 2008, 2012, 2016, 2020])"
      ]
     },
     "execution_count": 51,
     "metadata": {},
     "output_type": "execute_result"
    }
   ],
   "source": [
    "# Array of years that are divisible by 4 between 1950 and 2020\n",
    "\n",
    "all_years = np.arange(1950, 2021)\n",
    "\n",
    "# Adding a condition and filtering the years\n",
    "condition_based_years = all_years[np.mod(all_years, 4) == 0]\n",
    "\n",
    "condition_based_years"
   ]
  },
  {
   "cell_type": "markdown",
   "metadata": {},
   "source": [
    "#### Note:\n",
    "- Numpy as has some function that made the tasks easier like zeros(), ones(), full() functions\n",
    "- Numpy arange() makes the works easier as it didn't require to write any loops to do tasks.\n",
    "- Array of years that divisible by 4 it was little bit difficult to solve in Numpy for me but it was easier than python to execute."
   ]
  },
  {
   "cell_type": "markdown",
   "metadata": {},
   "source": [
    "## 3. Let's try out NumPy vectors and matrices:"
   ]
  },
  {
   "cell_type": "code",
   "execution_count": 53,
   "metadata": {},
   "outputs": [
    {
     "data": {
      "text/plain": [
       "4"
      ]
     },
     "execution_count": 53,
     "metadata": {},
     "output_type": "execute_result"
    }
   ],
   "source": [
    "# Create a NumPy vector (list) containing these values\n",
    "\n",
    "vector_list = np.array([5, 16, 9, 2, 19, 18, 11, 7])\n",
    "\n",
    "max_index = np.argmax(vector_list)\n",
    "max_index"
   ]
  },
  {
   "cell_type": "code",
   "execution_count": 56,
   "metadata": {},
   "outputs": [
    {
     "data": {
      "text/plain": [
       "array([[ 1,  2,  3,  4,  5,  6,  7],\n",
       "       [ 8,  9, 10, 11, 12, 13, 14],\n",
       "       [15, 16, 17, 18, 19, 20, 21],\n",
       "       [22, 23, 24, 25, 26, 27, 28],\n",
       "       [29, 30, 31, 32, 33, 34, 35],\n",
       "       [36, 37, 38, 39, 40, 41, 42],\n",
       "       [43, 44, 45, 46, 47, 48, 49]])"
      ]
     },
     "execution_count": 56,
     "metadata": {},
     "output_type": "execute_result"
    }
   ],
   "source": [
    "# Create a 7x7 matrix, with values from 1 to 49\n",
    "\n",
    "numpy_array = np.arange(1, 50).reshape(7, 7)\n",
    "\n",
    "numpy_array"
   ]
  },
  {
   "cell_type": "code",
   "execution_count": 60,
   "metadata": {},
   "outputs": [
    {
     "data": {
      "text/plain": [
       "array([93, 83, 58, 88, 91, 87, 80, 98, 81, 82])"
      ]
     },
     "execution_count": 60,
     "metadata": {},
     "output_type": "execute_result"
    }
   ],
   "source": [
    "data = np.random.randint(1, 100, 10)\n",
    "data"
   ]
  },
  {
   "cell_type": "code",
   "execution_count": 61,
   "metadata": {},
   "outputs": [
    {
     "data": {
      "text/plain": [
       "array([[0, 2, 1, 5, 5, 1, 2, 5],\n",
       "       [2, 3, 3, 3, 4, 4, 2, 5],\n",
       "       [5, 1, 5, 2, 2, 1, 2, 2],\n",
       "       [0, 1, 2, 2, 1, 4, 0, 5],\n",
       "       [4, 2, 0, 0, 3, 3, 2, 0],\n",
       "       [5, 4, 5, 0, 0, 4, 2, 0],\n",
       "       [0, 0, 4, 4, 2, 2, 5, 2],\n",
       "       [1, 2, 0, 4, 2, 5, 3, 2]])"
      ]
     },
     "execution_count": 61,
     "metadata": {},
     "output_type": "execute_result"
    }
   ],
   "source": [
    "# Generate 8x8 random number matrix, values between 0 and 5\n",
    "\n",
    "random_matrix = np.random.randint(0, 6, size=(8, 8))\n",
    "\n",
    "random_matrix\n"
   ]
  },
  {
   "cell_type": "code",
   "execution_count": 67,
   "metadata": {},
   "outputs": [
    {
     "data": {
      "text/plain": [
       "array([[ 1.75018808, -1.77392125,  2.02143122, -2.33517702,  1.44276391,\n",
       "        -0.39095419,  2.25585759,  0.11818967],\n",
       "       [ 1.45743113, -0.65016804,  0.67872932, -2.0128826 , -1.85929393,\n",
       "         0.31326058,  0.98268538, -1.68473695],\n",
       "       [ 1.84565564, -1.83783857, -1.27729341,  1.71689852,  1.02532075,\n",
       "        -1.84320256,  0.37457177,  1.27771727],\n",
       "       [ 0.15568629,  2.84199326, -0.94251918,  2.37561974, -0.63417777,\n",
       "         2.34370689, -2.56806061,  0.3548283 ],\n",
       "       [-1.44366814,  1.4362069 ,  1.04763495,  0.96566018, -1.84642917,\n",
       "         1.6457063 ,  0.53051469, -0.98008401],\n",
       "       [-0.64546524, -2.19692232, -1.93872594,  1.51692763, -0.30249565,\n",
       "        -1.02124282, -1.05814146,  2.4069378 ],\n",
       "       [ 2.21994304,  1.60131462,  0.62918849,  0.35246116, -1.83800693,\n",
       "        -0.16931542,  1.3960493 ,  0.07060922],\n",
       "       [ 0.88713821, -2.0770764 , -0.14290348,  2.85291789, -0.25927584,\n",
       "         2.07333006, -2.7511447 ,  1.49909068]])"
      ]
     },
     "execution_count": 67,
     "metadata": {},
     "output_type": "execute_result"
    }
   ],
   "source": [
    "# Generate 8x8 random number matrix, using standard normal distribution values (= values are between -3 and 3)\n",
    "\n",
    "# Found this way where it can be decided the range and also size\n",
    "random_matrix = np.random.uniform(-3, 3, size=(8, 8))\n",
    "random_matrix"
   ]
  },
  {
   "cell_type": "code",
   "execution_count": 68,
   "metadata": {},
   "outputs": [
    {
     "data": {
      "text/plain": [
       "array([[ 0.29986087, -0.31251019,  0.26534943, -0.29359307, -0.16056161,\n",
       "        -0.26058493, -0.68001812, -0.04467131],\n",
       "       [-0.36641199,  0.78606553, -0.88458138, -1.18379117, -0.4581713 ,\n",
       "        -0.26902912,  0.6431843 ,  1.03905421],\n",
       "       [ 0.33864354,  0.25238321,  0.7982648 , -0.02348758,  1.54436751,\n",
       "        -0.4531028 ,  1.17891887, -1.15459566],\n",
       "       [ 1.09593894,  1.10778935,  0.68912451, -0.41453295, -0.10268526,\n",
       "         1.10284691,  2.13703296, -0.52929962],\n",
       "       [-0.53651406, -0.56205805,  1.39147161, -0.29805041,  0.01058983,\n",
       "        -0.28466152,  0.80394865,  0.20954627],\n",
       "       [-0.73191876,  1.17490693, -0.87211645,  0.50939111, -0.38854092,\n",
       "         0.6087728 ,  1.25635601,  0.84794769],\n",
       "       [-0.17679727, -0.21261119, -1.23842297, -0.81321794,  0.45431006,\n",
       "         0.42056475, -0.20039694, -0.66954493],\n",
       "       [ 0.6024841 ,  1.44443219,  0.10969643,  0.23269628,  0.9258602 ,\n",
       "        -0.7029993 ,  1.2046505 , -0.64071752]])"
      ]
     },
     "execution_count": 68,
     "metadata": {},
     "output_type": "execute_result"
    }
   ],
   "source": [
    "# Generate 8x8 random number matrix, using standard normal distribution values (= values are between -3 and 3)\n",
    "\n",
    "# As per course materials\n",
    "data = np.random.randn(8, 8)\n",
    "data"
   ]
  },
  {
   "cell_type": "markdown",
   "metadata": {},
   "source": [
    "## 4. Create a linearly spaced… "
   ]
  },
  {
   "cell_type": "code",
   "execution_count": 70,
   "metadata": {},
   "outputs": [
    {
     "data": {
      "text/plain": [
       "array([0.        , 0.11111111, 0.22222222, 0.33333333, 0.44444444,\n",
       "       0.55555556, 0.66666667, 0.77777778, 0.88888889, 1.        ])"
      ]
     },
     "execution_count": 70,
     "metadata": {},
     "output_type": "execute_result"
    }
   ],
   "source": [
    "# array (list/vector) of 10 values between value 0 and 1\n",
    "\n",
    "data = np.linspace(0, 1, 10)\n",
    "data"
   ]
  },
  {
   "cell_type": "code",
   "execution_count": 80,
   "metadata": {},
   "outputs": [
    {
     "data": {
      "text/plain": [
       "array([[0.        , 0.05050505, 0.1010101 , 0.15151515, 0.2020202 ,\n",
       "        0.25252525, 0.3030303 , 0.35353535, 0.4040404 , 0.45454545],\n",
       "       [0.50505051, 0.55555556, 0.60606061, 0.65656566, 0.70707071,\n",
       "        0.75757576, 0.80808081, 0.85858586, 0.90909091, 0.95959596],\n",
       "       [1.01010101, 1.06060606, 1.11111111, 1.16161616, 1.21212121,\n",
       "        1.26262626, 1.31313131, 1.36363636, 1.41414141, 1.46464646],\n",
       "       [1.51515152, 1.56565657, 1.61616162, 1.66666667, 1.71717172,\n",
       "        1.76767677, 1.81818182, 1.86868687, 1.91919192, 1.96969697],\n",
       "       [2.02020202, 2.07070707, 2.12121212, 2.17171717, 2.22222222,\n",
       "        2.27272727, 2.32323232, 2.37373737, 2.42424242, 2.47474747],\n",
       "       [2.52525253, 2.57575758, 2.62626263, 2.67676768, 2.72727273,\n",
       "        2.77777778, 2.82828283, 2.87878788, 2.92929293, 2.97979798],\n",
       "       [3.03030303, 3.08080808, 3.13131313, 3.18181818, 3.23232323,\n",
       "        3.28282828, 3.33333333, 3.38383838, 3.43434343, 3.48484848],\n",
       "       [3.53535354, 3.58585859, 3.63636364, 3.68686869, 3.73737374,\n",
       "        3.78787879, 3.83838384, 3.88888889, 3.93939394, 3.98989899],\n",
       "       [4.04040404, 4.09090909, 4.14141414, 4.19191919, 4.24242424,\n",
       "        4.29292929, 4.34343434, 4.39393939, 4.44444444, 4.49494949],\n",
       "       [4.54545455, 4.5959596 , 4.64646465, 4.6969697 , 4.74747475,\n",
       "        4.7979798 , 4.84848485, 4.8989899 , 4.94949495, 5.        ]])"
      ]
     },
     "execution_count": 80,
     "metadata": {},
     "output_type": "execute_result"
    }
   ],
   "source": [
    "# 10x10 matrix between values 0 and 5\n",
    "\n",
    "data = np.linspace(0, 5, 100).reshape(10, 10)\n",
    "data"
   ]
  },
  {
   "cell_type": "code",
   "execution_count": 84,
   "metadata": {},
   "outputs": [
    {
     "name": "stdout",
     "output_type": "stream",
     "text": [
      "[0.0, 0.05, 0.1, 0.15000000000000002, 0.2, 0.25, 0.30000000000000004, 0.35000000000000003, 0.4, 0.45]\n",
      "[0.5, 0.55, 0.6000000000000001, 0.65, 0.7000000000000001, 0.75, 0.8, 0.8500000000000001, 0.9, 0.9500000000000001]\n",
      "[1.0, 1.05, 1.1, 1.1500000000000001, 1.2000000000000002, 1.25, 1.3, 1.35, 1.4000000000000001, 1.4500000000000002]\n",
      "[1.5, 1.55, 1.6, 1.6500000000000001, 1.7000000000000002, 1.75, 1.8, 1.85, 1.9000000000000001, 1.9500000000000002]\n",
      "[2.0, 2.0500000000000003, 2.1, 2.15, 2.2, 2.25, 2.3000000000000003, 2.35, 2.4000000000000004, 2.45]\n",
      "[2.5, 2.5500000000000003, 2.6, 2.6500000000000004, 2.7, 2.75, 2.8000000000000003, 2.85, 2.9000000000000004, 2.95]\n",
      "[3.0, 3.0500000000000003, 3.1, 3.1500000000000004, 3.2, 3.25, 3.3000000000000003, 3.35, 3.4000000000000004, 3.45]\n",
      "[3.5, 3.5500000000000003, 3.6, 3.6500000000000004, 3.7, 3.75, 3.8000000000000003, 3.85, 3.9000000000000004, 3.95]\n",
      "[4.0, 4.05, 4.1000000000000005, 4.15, 4.2, 4.25, 4.3, 4.3500000000000005, 4.4, 4.45]\n",
      "[4.5, 4.55, 4.6000000000000005, 4.65, 4.7, 4.75, 4.800000000000001, 4.8500000000000005, 4.9, 4.95]\n"
     ]
    }
   ],
   "source": [
    "# 10x10 matrix between values 0 and 5 (Without Numpy)\n",
    "\n",
    "matrix_array = []\n",
    "step = 5 / (10 * 10)\n",
    "\n",
    "for i in range(10):\n",
    "    row = []\n",
    "    for j in range(10):\n",
    "        val = step * (i * 10 + j)\n",
    "        row.append(val)\n",
    "    matrix_array.append(row)\n",
    "for row in matrix_array:\n",
    "    print(row)"
   ]
  },
  {
   "cell_type": "markdown",
   "metadata": {},
   "source": [
    "## 5. Recreate the matrices in code based on the pictures."
   ]
  },
  {
   "cell_type": "code",
   "execution_count": 90,
   "metadata": {},
   "outputs": [
    {
     "name": "stdout",
     "output_type": "stream",
     "text": [
      "[[ 1  2  3  4  5]\n",
      " [ 6  7  8  9 10]\n",
      " [11 12 13 14 15]]\n"
     ]
    }
   ],
   "source": [
    "# Create this 3x5 matrix with NumPy:\n",
    "\n",
    "list1 = [1, 2, 3, 4, 5]\n",
    "list2= [6, 7, 8, 9, 10]\n",
    "list3 = [11, 12, 13, 14, 15]\n",
    "\n",
    "matrix_list = [list1, list2, list3]\n",
    "matrix_array = np.array(matrix_list)\n",
    "print(matrix_array)"
   ]
  },
  {
   "cell_type": "code",
   "execution_count": 91,
   "metadata": {},
   "outputs": [
    {
     "name": "stdout",
     "output_type": "stream",
     "text": [
      "[[128 129 130 131 132 133 134 135 136 137 138 139 140 141 142 143]\n",
      " [144 145 146 147 148 149 150 151 152 153 154 155 156 157 158 159]\n",
      " [160 161 162 163 164 165 166 167 168 169 170 171 172 173 174 175]\n",
      " [176 177 178 179 180 181 182 183 184 185 186 187 188 189 190 191]\n",
      " [192 193 194 195 196 197 198 199 200 201 202 203 204 205 206 207]\n",
      " [208 209 210 211 212 213 214 215 216 217 218 219 220 221 222 223]\n",
      " [224 225 226 227 228 229 230 231 232 233 234 235 236 237 238 239]\n",
      " [240 241 242 243 244 245 246 247 248 249 250 251 252 253 254 255]]\n"
     ]
    }
   ],
   "source": [
    "# Generate this NumPy array: (8,16)\n",
    "\n",
    "matrix_array = np.arange(128, 256).reshape(8, 16)\n",
    "print(matrix_array)"
   ]
  },
  {
   "cell_type": "code",
   "execution_count": 92,
   "metadata": {},
   "outputs": [
    {
     "name": "stdout",
     "output_type": "stream",
     "text": [
      "[[0.05 0.1  0.15 0.2  0.25 0.3  0.35 0.4  0.45 0.5 ]\n",
      " [0.55 0.6  0.65 0.7  0.75 0.8  0.85 0.9  0.95 1.  ]\n",
      " [1.05 1.1  1.15 1.2  1.25 1.3  1.35 1.4  1.45 1.5 ]\n",
      " [1.55 1.6  1.65 1.7  1.75 1.8  1.85 1.9  1.95 2.  ]\n",
      " [2.05 2.1  2.15 2.2  2.25 2.3  2.35 2.4  2.45 2.5 ]\n",
      " [2.55 2.6  2.65 2.7  2.75 2.8  2.85 2.9  2.95 3.  ]\n",
      " [3.05 3.1  3.15 3.2  3.25 3.3  3.35 3.4  3.45 3.5 ]\n",
      " [3.55 3.6  3.65 3.7  3.75 3.8  3.85 3.9  3.95 4.  ]\n",
      " [4.05 4.1  4.15 4.2  4.25 4.3  4.35 4.4  4.45 4.5 ]\n",
      " [4.55 4.6  4.65 4.7  4.75 4.8  4.85 4.9  4.95 5.  ]]\n"
     ]
    }
   ],
   "source": [
    "# Generate this NumPy array: (10, 10)\n",
    "\n",
    "matrix_array = np.arange(0.05, 5.05, 0.05).reshape(10,10)\n",
    "print(matrix_array)"
   ]
  },
  {
   "cell_type": "markdown",
   "metadata": {},
   "source": [
    "## 6. Use this matrix in your code:"
   ]
  },
  {
   "cell_type": "code",
   "execution_count": 93,
   "metadata": {},
   "outputs": [
    {
     "data": {
      "text/plain": [
       "array([[ 1,  2,  3,  4,  5,  6],\n",
       "       [ 7,  8,  9, 10, 11, 12],\n",
       "       [13, 14, 15, 16, 17, 18],\n",
       "       [19, 20, 21, 22, 23, 24],\n",
       "       [25, 26, 27, 28, 29, 30],\n",
       "       [31, 32, 33, 34, 35, 36]])"
      ]
     },
     "execution_count": 93,
     "metadata": {},
     "output_type": "execute_result"
    }
   ],
   "source": [
    "dataset = np.arange(1, 37).reshape(6, 6)\n",
    "dataset"
   ]
  },
  {
   "cell_type": "code",
   "execution_count": 100,
   "metadata": {},
   "outputs": [
    {
     "name": "stdout",
     "output_type": "stream",
     "text": [
      "[[21 22 23 24]\n",
      " [27 28 29 30]\n",
      " [33 34 35 36]]\n"
     ]
    }
   ],
   "source": [
    "# Create a slice of the matrix that contains this part of the matrix:\n",
    "\n",
    "matrix_array = dataset[3:, 2:]\n",
    "print(matrix_array)"
   ]
  },
  {
   "cell_type": "code",
   "execution_count": 103,
   "metadata": {},
   "outputs": [
    {
     "name": "stdout",
     "output_type": "stream",
     "text": [
      "[[ 4]\n",
      " [10]\n",
      " [16]\n",
      " [22]]\n"
     ]
    }
   ],
   "source": [
    "# Pick out this column slice from data\n",
    "\n",
    "matrix_array = dataset[:4, 3:4]\n",
    "print(matrix_array)"
   ]
  },
  {
   "cell_type": "code",
   "execution_count": 105,
   "metadata": {},
   "outputs": [
    {
     "name": "stdout",
     "output_type": "stream",
     "text": [
      "[[13]\n",
      " [14]\n",
      " [15]\n",
      " [16]\n",
      " [17]\n",
      " [18]]\n"
     ]
    }
   ],
   "source": [
    "# Pick out this row from the data\n",
    "\n",
    "matrix_array = dataset[2:3, :]\n",
    "transposed_matrix = np.transpose(matrix_array)\n",
    "print(transposed_matrix)"
   ]
  },
  {
   "cell_type": "code",
   "execution_count": 106,
   "metadata": {},
   "outputs": [
    {
     "name": "stdout",
     "output_type": "stream",
     "text": [
      "[[19 20 21 22 23 24]\n",
      " [25 26 27 28 29 30]\n",
      " [31 32 33 34 35 36]]\n"
     ]
    }
   ],
   "source": [
    "# Pick out these three rows from data:\n",
    "matrix_array = dataset[3:, :]\n",
    "print(matrix_array)\n"
   ]
  },
  {
   "cell_type": "markdown",
   "metadata": {},
   "source": [
    "## 7. Use this matrix:"
   ]
  },
  {
   "cell_type": "code",
   "execution_count": 120,
   "metadata": {},
   "outputs": [
    {
     "data": {
      "text/plain": [
       "array([[ 1,  2,  3,  4,  5,  6,  7],\n",
       "       [ 8,  9, 10, 11, 12, 13, 14],\n",
       "       [15, 16, 17, 18, 19, 20, 21],\n",
       "       [22, 23, 24, 25, 26, 27, 28],\n",
       "       [29, 30, 31, 32, 33, 34, 35],\n",
       "       [36, 37, 38, 39, 40, 41, 42],\n",
       "       [43, 44, 45, 46, 47, 48, 49]])"
      ]
     },
     "execution_count": 120,
     "metadata": {},
     "output_type": "execute_result"
    }
   ],
   "source": [
    "dataset = np.arange(1, 50).reshape(7, 7)\n",
    "dataset"
   ]
  },
  {
   "cell_type": "code",
   "execution_count": 108,
   "metadata": {},
   "outputs": [
    {
     "data": {
      "text/plain": [
       "array([[51, 52, 53, 54, 55, 56, 57],\n",
       "       [58, 59, 60, 61, 62, 63, 64],\n",
       "       [65, 66, 67, 68, 69, 70, 71],\n",
       "       [72, 73, 74, 75, 76, 77, 78],\n",
       "       [79, 80, 81, 82, 83, 84, 85],\n",
       "       [86, 87, 88, 89, 90, 91, 92],\n",
       "       [93, 94, 95, 96, 97, 98, 99]])"
      ]
     },
     "execution_count": 108,
     "metadata": {},
     "output_type": "execute_result"
    }
   ],
   "source": [
    "# Add 50 to all values in the array (use broadcasting)\n",
    "\n",
    "new_dataset = dataset+ 50\n",
    "new_dataset"
   ]
  },
  {
   "cell_type": "code",
   "execution_count": 109,
   "metadata": {},
   "outputs": [
    {
     "data": {
      "text/plain": [
       "1225"
      ]
     },
     "execution_count": 109,
     "metadata": {},
     "output_type": "execute_result"
    }
   ],
   "source": [
    "# Get the sum of all values in the dataset\n",
    "\n",
    "sum_arrays = np.sum(dataset)\n",
    "sum_arrays"
   ]
  },
  {
   "cell_type": "code",
   "execution_count": 111,
   "metadata": {},
   "outputs": [
    {
     "data": {
      "text/plain": [
       "625"
      ]
     },
     "execution_count": 111,
     "metadata": {},
     "output_type": "execute_result"
    }
   ],
   "source": [
    "# Get sum of only odd numbers in the dataset\n",
    "\n",
    "odd_condition = dataset % 2 != 0\n",
    "new_dataset= dataset[odd_condition]\n",
    "\n",
    "sum_odd_arrays = np.sum(new_dataset)\n",
    "sum_odd_arrays"
   ]
  },
  {
   "cell_type": "code",
   "execution_count": 113,
   "metadata": {},
   "outputs": [
    {
     "data": {
      "text/plain": [
       "14.142135623730951"
      ]
     },
     "execution_count": 113,
     "metadata": {},
     "output_type": "execute_result"
    }
   ],
   "source": [
    "# Get the standard deviation of the values in the dataset\n",
    "\n",
    "std_deviation = np.std(dataset)\n",
    "std_deviation"
   ]
  },
  {
   "cell_type": "code",
   "execution_count": 115,
   "metadata": {},
   "outputs": [
    {
     "name": "stdout",
     "output_type": "stream",
     "text": [
      "[ 28  77 126 175 224 273 322]\n"
     ]
    }
   ],
   "source": [
    "# Get the sum of all values by ROW in the dataset\n",
    "\n",
    "sum_of_row = np.sum(dataset, axis=1)\n",
    "print(sum_of_row)\n"
   ]
  },
  {
   "cell_type": "code",
   "execution_count": 118,
   "metadata": {},
   "outputs": [
    {
     "name": "stdout",
     "output_type": "stream",
     "text": [
      "[154 161 168 175 182 189 196]\n"
     ]
    }
   ],
   "source": [
    "# Get the sum of all values by COLUMN in the dataset (tip, use the axis –parameter)\n",
    "\n",
    "sum_of_col = np.sum(dataset, axis=0)\n",
    "print(sum_of_col)"
   ]
  },
  {
   "cell_type": "code",
   "execution_count": 130,
   "metadata": {},
   "outputs": [
    {
     "name": "stdout",
     "output_type": "stream",
     "text": [
      "Total Sum: 1225\n",
      "Row Sum: [28, 77, 126, 175, 224, 273, 322]\n",
      "Column Sum: [154, 161, 168, 175, 182, 189, 196]\n"
     ]
    }
   ],
   "source": [
    "# Extra task: Do the total sum, row sum and column sum exercises without NumPy in Python!\n",
    "\n",
    "# Total Sum\n",
    "total_sum= 0\n",
    "for i in dataset:\n",
    "    for j in i:\n",
    "        total_sum+= j\n",
    "print(f\"Total Sum: {total_sum}\")\n",
    "\n",
    "# Row Sum\n",
    "row_sum= []\n",
    "for i in dataset:\n",
    "    sum=0\n",
    "    for j in i:\n",
    "        sum+= j\n",
    "    row_sum.append(sum)\n",
    "print(f\"Row Sum: {row_sum}\")\n",
    "\n",
    "# Col Sum\n",
    "col_sum= []\n",
    "\n",
    "for i in range(len(dataset[0])):\n",
    "    # i = [0, 1, 2, .....]\n",
    "    sum = 0\n",
    "    for row in dataset:\n",
    "        # row[i] is column values\n",
    "        sum += row[i]\n",
    "    col_sum.append(sum)\n",
    "print(f\"Column Sum: {col_sum}\")\n"
   ]
  }
 ],
 "metadata": {
  "kernelspec": {
   "display_name": "Python 3",
   "language": "python",
   "name": "python3"
  },
  "language_info": {
   "codemirror_mode": {
    "name": "ipython",
    "version": 3
   },
   "file_extension": ".py",
   "mimetype": "text/x-python",
   "name": "python",
   "nbconvert_exporter": "python",
   "pygments_lexer": "ipython3",
   "version": "3.10.5"
  }
 },
 "nbformat": 4,
 "nbformat_minor": 2
}
