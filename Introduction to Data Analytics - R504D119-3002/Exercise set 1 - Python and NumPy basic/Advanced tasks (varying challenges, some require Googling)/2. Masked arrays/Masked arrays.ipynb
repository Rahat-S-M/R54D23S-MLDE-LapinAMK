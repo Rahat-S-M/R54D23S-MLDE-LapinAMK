{
 "cells": [
  {
   "cell_type": "code",
   "execution_count": 1,
   "metadata": {},
   "outputs": [],
   "source": [
    "import numpy as np"
   ]
  },
  {
   "cell_type": "code",
   "execution_count": 38,
   "metadata": {},
   "outputs": [
    {
     "data": {
      "text/plain": [
       "array([[ 1,  2,  3,  4,  5],\n",
       "       [ 6,  7,  8,  9, 10],\n",
       "       [11, 12, 13, 14, 15],\n",
       "       [16, 17, 18, 19, 20],\n",
       "       [21, 22, 23, 24, 25],\n",
       "       [26, 27, 28, 29, 30],\n",
       "       [31, 32, 33, 34, 35],\n",
       "       [36, 37, 38, 39, 40],\n",
       "       [41, 42, 43, 44, 45],\n",
       "       [46, 47, 48, 49, 50]])"
      ]
     },
     "execution_count": 38,
     "metadata": {},
     "output_type": "execute_result"
    }
   ],
   "source": [
    "matrix_array = np.arange(1, 51).reshape(10,5)\n",
    "matrix_array"
   ]
  },
  {
   "cell_type": "markdown",
   "metadata": {},
   "source": [
    "## Generate 5 random positions and fill up those postions with -100"
   ]
  },
  {
   "cell_type": "code",
   "execution_count": 39,
   "metadata": {},
   "outputs": [
    {
     "data": {
      "text/plain": [
       "array([[0, 2],\n",
       "       [3, 3],\n",
       "       [0, 0],\n",
       "       [6, 4],\n",
       "       [1, 1]])"
      ]
     },
     "execution_count": 39,
     "metadata": {},
     "output_type": "execute_result"
    }
   ],
   "source": [
    "# Generate 5 random positions\n",
    "fault_values_positions = np.random.randint(0, 10, size=(5, 2))\n",
    "\n",
    "# column values should be below 5\n",
    "fault_values_positions[:, 1] = np.random.randint(0, 5, size=5)\n",
    "fault_values_positions"
   ]
  },
  {
   "cell_type": "code",
   "execution_count": 41,
   "metadata": {},
   "outputs": [
    {
     "data": {
      "text/plain": [
       "array([[-100,    2, -100,    4,    5],\n",
       "       [   6, -100,    8,    9,   10],\n",
       "       [  11,   12,   13,   14,   15],\n",
       "       [  16,   17,   18, -100,   20],\n",
       "       [  21,   22,   23,   24,   25],\n",
       "       [  26,   27,   28,   29,   30],\n",
       "       [  31,   32,   33,   34, -100],\n",
       "       [  36,   37,   38,   39,   40],\n",
       "       [  41,   42,   43,   44,   45],\n",
       "       [  46,   47,   48,   49,   50]])"
      ]
     },
     "execution_count": 41,
     "metadata": {},
     "output_type": "execute_result"
    }
   ],
   "source": [
    "# Filling up those random positions with -100\n",
    "for positions in fault_values_positions:\n",
    "    matrix_array[positions[0], positions[1]] = -100\n",
    "\n",
    "matrix_array"
   ]
  },
  {
   "cell_type": "markdown",
   "metadata": {},
   "source": [
    "## Creating A Masked Matrix"
   ]
  },
  {
   "cell_type": "code",
   "execution_count": 44,
   "metadata": {},
   "outputs": [
    {
     "data": {
      "text/plain": [
       "masked_array(\n",
       "  data=[[--, 2, --, 4, 5],\n",
       "        [6, --, 8, 9, 10],\n",
       "        [11, 12, 13, 14, 15],\n",
       "        [16, 17, 18, --, 20],\n",
       "        [21, 22, 23, 24, 25],\n",
       "        [26, 27, 28, 29, 30],\n",
       "        [31, 32, 33, 34, --],\n",
       "        [36, 37, 38, 39, 40],\n",
       "        [41, 42, 43, 44, 45],\n",
       "        [46, 47, 48, 49, 50]],\n",
       "  mask=[[ True, False,  True, False, False],\n",
       "        [False,  True, False, False, False],\n",
       "        [False, False, False, False, False],\n",
       "        [False, False, False,  True, False],\n",
       "        [False, False, False, False, False],\n",
       "        [False, False, False, False, False],\n",
       "        [False, False, False, False,  True],\n",
       "        [False, False, False, False, False],\n",
       "        [False, False, False, False, False],\n",
       "        [False, False, False, False, False]],\n",
       "  fill_value=999999)"
      ]
     },
     "execution_count": 44,
     "metadata": {},
     "output_type": "execute_result"
    }
   ],
   "source": [
    "# Creating A Masked Matrix\n",
    "\n",
    "masked_matrix = np.ma.masked_where(matrix_array == -100, matrix_array)\n",
    "\n",
    "masked_matrix"
   ]
  },
  {
   "cell_type": "code",
   "execution_count": 45,
   "metadata": {},
   "outputs": [
    {
     "name": "stdout",
     "output_type": "stream",
     "text": [
      "[[ 0  2  0  4  5]\n",
      " [ 6  0  8  9 10]\n",
      " [11 12 13 14 15]\n",
      " [16 17 18  0 20]\n",
      " [21 22 23 24 25]\n",
      " [26 27 28 29 30]\n",
      " [31 32 33 34  0]\n",
      " [36 37 38 39 40]\n",
      " [41 42 43 44 45]\n",
      " [46 47 48 49 50]]\n"
     ]
    }
   ],
   "source": [
    "# Fill The blanks with (0)\n",
    "\n",
    "masked_matrix = masked_matrix.filled(0)\n",
    "print(masked_matrix)"
   ]
  }
 ],
 "metadata": {
  "kernelspec": {
   "display_name": "Python 3",
   "language": "python",
   "name": "python3"
  },
  "language_info": {
   "codemirror_mode": {
    "name": "ipython",
    "version": 3
   },
   "file_extension": ".py",
   "mimetype": "text/x-python",
   "name": "python",
   "nbconvert_exporter": "python",
   "pygments_lexer": "ipython3",
   "version": "3.10.5"
  }
 },
 "nbformat": 4,
 "nbformat_minor": 2
}
