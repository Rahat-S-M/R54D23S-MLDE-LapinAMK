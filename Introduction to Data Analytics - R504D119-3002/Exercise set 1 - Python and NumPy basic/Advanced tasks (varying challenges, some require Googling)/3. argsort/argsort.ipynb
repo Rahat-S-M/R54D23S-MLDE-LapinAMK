{
 "cells": [
  {
   "cell_type": "code",
   "execution_count": 1,
   "metadata": {},
   "outputs": [],
   "source": [
    "import numpy as np"
   ]
  },
  {
   "cell_type": "code",
   "execution_count": 44,
   "metadata": {},
   "outputs": [],
   "source": [
    "import pandas as pd\n",
    "\n",
    "# Using pandas to read csv\n",
    "df = pd.read_csv('car-data.csv')\n",
    "\n",
    "# Converting into numpy array\n",
    "load_data = df.to_numpy()"
   ]
  },
  {
   "cell_type": "code",
   "execution_count": 45,
   "metadata": {},
   "outputs": [
    {
     "name": "stdout",
     "output_type": "stream",
     "text": [
      "[[2015 'Toyota Camry' 20000]\n",
      " [2016 'Honda Accord' 22000]\n",
      " [2017 'Ford Fusion' 19500]\n",
      " [2018 'Chevrolet Malibu' 21500]\n",
      " [2019 'Nissan Altima' 23500]\n",
      " [2018 'Hyundai Sonata' 28000]\n",
      " [2017 'Kia Optima' 29500]\n",
      " [2016 'Volkswagen Passat' 27000]\n",
      " [2015 'Subaru Legacy' 18500]\n",
      " [2014 'Mazda 6' 17000]]\n"
     ]
    }
   ],
   "source": [
    "print(load_data)"
   ]
  },
  {
   "cell_type": "code",
   "execution_count": 55,
   "metadata": {},
   "outputs": [
    {
     "data": {
      "text/plain": [
       "array([2015, 2016, 2017, 2018, 2019, 2018, 2017, 2016, 2015, 2014],\n",
       "      dtype=object)"
      ]
     },
     "execution_count": 55,
     "metadata": {},
     "output_type": "execute_result"
    }
   ],
   "source": [
    "# Manufactured Years.\n",
    "\n",
    "manufacturing_years = np.array(load_data[:, :1]).flatten()\n",
    "manufacturing_years"
   ]
  },
  {
   "cell_type": "code",
   "execution_count": 59,
   "metadata": {},
   "outputs": [
    {
     "data": {
      "text/plain": [
       "array(['Toyota Camry', 'Honda Accord', 'Ford Fusion', 'Chevrolet Malibu',\n",
       "       'Nissan Altima', 'Hyundai Sonata', 'Kia Optima',\n",
       "       'Volkswagen Passat', 'Subaru Legacy', 'Mazda 6'], dtype=object)"
      ]
     },
     "execution_count": 59,
     "metadata": {},
     "output_type": "execute_result"
    }
   ],
   "source": [
    "# Car Names\n",
    "\n",
    "car_names = np.array(load_data[:, 1:2]).flatten()\n",
    "car_names"
   ]
  },
  {
   "cell_type": "code",
   "execution_count": 54,
   "metadata": {},
   "outputs": [
    {
     "data": {
      "text/plain": [
       "array([20000, 22000, 19500, 21500, 23500, 28000, 29500, 27000, 18500,\n",
       "       17000], dtype=object)"
      ]
     },
     "execution_count": 54,
     "metadata": {},
     "output_type": "execute_result"
    }
   ],
   "source": [
    "# Car Prices.\n",
    "\n",
    "car_prices = np.array(load_data[:, 2:]).flatten()\n",
    "car_prices"
   ]
  },
  {
   "cell_type": "code",
   "execution_count": 62,
   "metadata": {},
   "outputs": [],
   "source": [
    "# Using argsort() to sort arrays\n",
    "\n",
    "sorter = np.argsort(manufacturing_years)\n",
    "sorted_manufacturing_years = manufacturing_years[sorter]\n",
    "sorted_car_prices = car_prices[sorter]\n",
    "sorted_car_names = car_names[sorter]"
   ]
  },
  {
   "cell_type": "code",
   "execution_count": 66,
   "metadata": {},
   "outputs": [
    {
     "name": "stdout",
     "output_type": "stream",
     "text": [
      "[[2014 'Mazda 6' 17000]\n",
      " [2015 'Toyota Camry' 20000]\n",
      " [2015 'Subaru Legacy' 18500]\n",
      " [2016 'Honda Accord' 22000]\n",
      " [2016 'Volkswagen Passat' 27000]\n",
      " [2017 'Ford Fusion' 19500]\n",
      " [2017 'Kia Optima' 29500]\n",
      " [2018 'Chevrolet Malibu' 21500]\n",
      " [2018 'Hyundai Sonata' 28000]\n",
      " [2019 'Nissan Altima' 23500]]\n"
     ]
    }
   ],
   "source": [
    "# Making an array an use transpose to make data correct format\n",
    "\n",
    "sorted_array = np.array([sorted_manufacturing_years, sorted_car_names, sorted_car_prices])\n",
    "\n",
    "print(sorted_array.transpose())"
   ]
  }
 ],
 "metadata": {
  "kernelspec": {
   "display_name": "Python 3",
   "language": "python",
   "name": "python3"
  },
  "language_info": {
   "codemirror_mode": {
    "name": "ipython",
    "version": 3
   },
   "file_extension": ".py",
   "mimetype": "text/x-python",
   "name": "python",
   "nbconvert_exporter": "python",
   "pygments_lexer": "ipython3",
   "version": "3.10.5"
  }
 },
 "nbformat": 4,
 "nbformat_minor": 2
}
