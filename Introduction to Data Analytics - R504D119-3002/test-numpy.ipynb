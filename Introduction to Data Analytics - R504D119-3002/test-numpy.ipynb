{
 "cells": [
  {
   "cell_type": "markdown",
   "metadata": {},
   "source": []
  },
  {
   "cell_type": "code",
   "execution_count": 1,
   "metadata": {},
   "outputs": [],
   "source": [
    "import numpy as np\n"
   ]
  },
  {
   "cell_type": "code",
   "execution_count": 3,
   "metadata": {},
   "outputs": [
    {
     "data": {
      "text/plain": [
       "array([0, 1, 2, 3, 4, 5, 6, 7, 8])"
      ]
     },
     "execution_count": 3,
     "metadata": {},
     "output_type": "execute_result"
    }
   ],
   "source": [
    "# generate a vector (list) from 0 to 9\n",
    "\n",
    "data = np.arange(0, 9)\n",
    "data"
   ]
  },
  {
   "cell_type": "code",
   "execution_count": null,
   "metadata": {},
   "outputs": [],
   "source": [
    "# another version, third parameter is step size, this\n",
    "# generates a list of even numbers between 0 and 10\n",
    "data = np.arange(0,11,2)\n",
    "data\n",
    "\n",
    "# arange() does not have a matrix version of itself (there's another\n",
    "# way though) (reshape, which we'll cover later)"
   ]
  },
  {
   "cell_type": "code",
   "execution_count": null,
   "metadata": {},
   "outputs": [],
   "source": [
    "#converting python data to numpy arrray\n",
    "\n",
    "import numpy as np\n",
    "\n",
    "numbers = [3, 5, 6, 2]\n",
    "data = np.array(numbers)"
   ]
  },
  {
   "cell_type": "code",
   "execution_count": null,
   "metadata": {},
   "outputs": [],
   "source": [
    "# vector, 1 dimension\n",
    "# convert python list to numpy array (vector)\n",
    "\n",
    "numbers = [3, 5, 6, 2]\n",
    "data = np.array(numbers)\n",
    "data"
   ]
  },
  {
   "cell_type": "code",
   "execution_count": 13,
   "metadata": {},
   "outputs": [
    {
     "data": {
      "text/plain": [
       "array([[18, 19, 17, 21],\n",
       "       [15, 14, 15, 17],\n",
       "       [ 9, 10,  9,  8]])"
      ]
     },
     "execution_count": 13,
     "metadata": {},
     "output_type": "execute_result"
    }
   ],
   "source": [
    "\n",
    "# matrix, 2-dimensional\n",
    "day_1 = [18, 19, 17, 21]\n",
    "day_2 = [15, 14, 15, 17]\n",
    "day_3 = [9, 10, 9, 8]\n",
    "temperatures = [day_1, day_2, day_3]\n",
    "# convert list of lists to matrix, 2 2-dimensional\n",
    "data= np.array(temperatures)\n",
    "data\n"
   ]
  },
  {
   "cell_type": "markdown",
   "metadata": {},
   "source": [
    "Special Numpy Generators"
   ]
  },
  {
   "cell_type": "code",
   "execution_count": 14,
   "metadata": {},
   "outputs": [
    {
     "data": {
      "text/plain": [
       "array([0., 0., 0., 0., 0.])"
      ]
     },
     "execution_count": 14,
     "metadata": {},
     "output_type": "execute_result"
    }
   ],
   "source": [
    "# generate a list of zeroes\n",
    "data= np.zeros(5)\n",
    "data"
   ]
  },
  {
   "cell_type": "code",
   "execution_count": 20,
   "metadata": {},
   "outputs": [],
   "source": [
    "# another version, this generates\n",
    "# a matrix 3 x 3 of zeroes\n",
    "# note: the parameter is now a tuple\n",
    "data = np.zeros((3, 3))\n",
    "# we can also generate ones\n",
    "data = np.ones(5)\n",
    "# … or a matrix of ones\n",
    "data = np.ones((4, 4))\n",
    "# if you want use integer instead of float:\n",
    "data = np.ones((4, 4))"
   ]
  },
  {
   "cell_type": "markdown",
   "metadata": {},
   "source": [
    "Even distribution - linspace"
   ]
  },
  {
   "cell_type": "code",
   "execution_count": 23,
   "metadata": {},
   "outputs": [],
   "source": [
    "# without NumPy, we would have to go\n",
    "# through an existing collection of data, and\n",
    "# perform a series of division calculations.\n",
    "# thanks to NumPy, this can be achieved\n",
    "# with one line of code\n",
    "# this one: from 0 to 5, 10 steps\n",
    "data = np.linspace(0, 5, 5)"
   ]
  },
  {
   "cell_type": "markdown",
   "metadata": {},
   "source": [
    "Random Array Generations"
   ]
  },
  {
   "cell_type": "code",
   "execution_count": 25,
   "metadata": {},
   "outputs": [
    {
     "data": {
      "text/plain": [
       "array([0.72226543, 0.8774601 , 0.03539412, 0.43162068, 0.83921029])"
      ]
     },
     "execution_count": 25,
     "metadata": {},
     "output_type": "execute_result"
    }
   ],
   "source": [
    "data = np.random.rand(5)\n",
    "data"
   ]
  },
  {
   "cell_type": "code",
   "execution_count": 26,
   "metadata": {},
   "outputs": [],
   "source": [
    "# matrix version\n",
    "data = np.random.rand(5, 5)"
   ]
  }
 ],
 "metadata": {
  "kernelspec": {
   "display_name": ".venv",
   "language": "python",
   "name": "python3"
  },
  "language_info": {
   "codemirror_mode": {
    "name": "ipython",
    "version": 3
   },
   "file_extension": ".py",
   "mimetype": "text/x-python",
   "name": "python",
   "nbconvert_exporter": "python",
   "pygments_lexer": "ipython3",
   "version": "3.10.5"
  }
 },
 "nbformat": 4,
 "nbformat_minor": 2
}
